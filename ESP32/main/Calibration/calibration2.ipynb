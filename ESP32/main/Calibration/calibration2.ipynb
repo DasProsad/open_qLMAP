{
 "cells": [
  {
   "cell_type": "code",
   "execution_count": 26,
   "metadata": {},
   "outputs": [],
   "source": [
    "import pandas as pd\n",
    "import plotly.express as px\n",
    "from scipy.optimize import curve_fit\n",
    "from scipy.optimize import brute\n",
    "from scipy.optimize import minimize\n",
    "import numpy as np\n",
    "import plotly.graph_objects as go\n",
    "from IPython.display import clear_output\n",
    "\n",
    "# dataframe from json file\n",
    "df = pd.read_json('calibration_data (6).txt')\n",
    "df[\"metal_resistance\"] = df[\"heater1_resistance\"]"
   ]
  },
  {
   "cell_type": "code",
   "execution_count": 31,
   "metadata": {},
   "outputs": [
    {
     "name": "stdout",
     "output_type": "stream",
     "text": [
      "error:7.1757608305769836\n",
      "k1:1.024675852587987\n",
      "k2:0.10158686118862445\n",
      "k3:-7.134868557410222\n",
      "Optimization terminated successfully.\n",
      "         Current function value: 7.175761\n",
      "         Iterations: 271\n",
      "         Function evaluations: 519\n",
      "best error:7.1757608305769836\n",
      "float k1 = 1.024675852587987;\n",
      "float k2 = 0.10158686118862445;\n",
      "float k3 = -7.134868557410222;\n",
      "float a = 0.003008955562155505;\n",
      "float b = 0.00010709399484035514;\n",
      "float c = 3.040292279272696e-05;\n"
     ]
    }
   ],
   "source": [
    "\n",
    "from turtle import delay\n",
    "\n",
    "\n",
    "best_error = -1\n",
    "\n",
    "def SH_model(data,a,b,c):\n",
    "    return (1/(a+b*np.log(data)+c*(np.log(data))**3))-273.15\n",
    "\n",
    "def final_model (data,a,b,c,k1,k2,k3):\n",
    "    chamber_resistance =  data[1]\n",
    "    metal_resistance = data[0]\n",
    "\n",
    "\n",
    "    return k1*SH_model(metal_resistance,a,b,c)+k2*SH_model(chamber_resistance,a,b,c)+k3\n",
    "\n",
    "def error_function(data):\n",
    "    #iterate through the dataframe\n",
    "    final_error = 0\n",
    "    k1,k2,k3 = data\n",
    "    global best_a\n",
    "    global best_b\n",
    "    global best_c\n",
    "    global best_k1\n",
    "    global best_k2\n",
    "    global best_k3\n",
    "    global best_error\n",
    "    \n",
    "    for i in range(len(df)):\n",
    "        error = final_model(df.iloc[i],best_a,best_b,best_c,k1,k2,k3) - df.iloc[i]['real_temp']\n",
    "        final_error += np.sqrt(error**2)\n",
    "\n",
    "    if final_error < best_error or best_error == -1:\n",
    "        best_error = final_error\n",
    "        best_k1 = k1\n",
    "        best_k2 = k2\n",
    "        best_k3 = k3\n",
    "        clear_output(wait=True)\n",
    "        print(\"error:\" + str(final_error))\n",
    "        print(\"k1:\" + str(k1))\n",
    "        print(\"k2:\" + str(k2))\n",
    "        print(\"k3:\" + str(k3))\n",
    "\n",
    "\n",
    "    return final_error\n",
    "\n",
    "fittedParameters, pcov = curve_fit(SH_model, df['metal_resistance'], df['real_temp'],p0=[0.47e-3,3.9e-4,-11e-7])\n",
    "best_a,best_b,best_c= fittedParameters\n",
    "\n",
    "#optimize.brute error_function\n",
    "res = minimize(error_function,(1,0.05,5),method='Nelder-Mead',options={'disp': True})\n",
    "\n",
    "# wait for the optimization to finish\n",
    "\n",
    "\n",
    "\n",
    "\n",
    "# # minimize error_function manually\n",
    "# for k1 in np.arange(0,5,0.1):\n",
    "#     for k2 in np.arange(0,5,0.1):\n",
    "#         for k3 in np.arange(-20,20,0.1):\n",
    "#             error_function([k1,k2,k3])"
   ]
  },
  {
   "cell_type": "code",
   "execution_count": 32,
   "metadata": {},
   "outputs": [
    {
     "name": "stdout",
     "output_type": "stream",
     "text": [
      "best error:7.1757608305769836\n",
      "float k1 = 1.024675852587987;\n",
      "float k2 = 0.10158686118862445;\n",
      "float k3 = -7.134868557410222;\n",
      "float a = 0.003008955562155505;\n",
      "float b = 0.00010709399484035514;\n",
      "float c = 3.040292279272696e-05;\n"
     ]
    },
    {
     "ename": "",
     "evalue": "",
     "output_type": "error",
     "traceback": [
      "\u001b[1;31mThe Kernel crashed while executing code in the the current cell or a previous cell. Please review the code in the cell(s) to identify a possible cause of the failure. Click <a href='https://aka.ms/vscodeJupyterKernelCrash'>here</a> for more info. View Jupyter <a href='command:jupyter.viewOutput'>log</a> for further details."
     ]
    }
   ],
   "source": [
    "# print the results\n",
    "print(\"best error:\" + str(best_error))\n",
    "\n",
    "print(\"float k1 = \" + str(best_k1) + \";\")\n",
    "print(\"float k2 = \" + str(best_k2) + \";\")\n",
    "print(\"float k3 = \" + str(best_k3) + \";\")\n",
    "\n",
    "print(\"float a = \" + str(best_a) + \";\")\n",
    "print(\"float b = \" + str(best_b) + \";\")\n",
    "print(\"float c = \" + str(best_c) + \";\")"
   ]
  },
  {
   "cell_type": "code",
   "execution_count": 30,
   "metadata": {},
   "outputs": [
    {
     "data": {
      "application/vnd.plotly.v1+json": {
       "config": {
        "plotlyServerURL": "https://plot.ly"
       },
       "data": [
        {
         "hovertemplate": "metal_resistance=%{x}<br>real_temp=%{y}<br>chamber_resistance=%{marker.color}<extra></extra>",
         "legendgroup": "",
         "marker": {
          "color": [
           2.48,
           2.51,
           2.23,
           2.22,
           2.14,
           2
          ],
          "coloraxis": "coloraxis",
          "symbol": "circle"
         },
         "mode": "markers",
         "name": "",
         "orientation": "v",
         "showlegend": false,
         "type": "scatter",
         "x": [
          2.25,
          2.25,
          1.16,
          1.12,
          0.55,
          0.53
         ],
         "xaxis": "x",
         "y": [
          47.15,
          49.45,
          57,
          58,
          65,
          70
         ],
         "yaxis": "y"
        },
        {
         "mode": "lines",
         "name": "SH model",
         "type": "scatter",
         "x": [
          0.3,
          0.35757575757575755,
          0.41515151515151516,
          0.4727272727272727,
          0.5303030303030303,
          0.5878787878787879,
          0.6454545454545455,
          0.7030303030303031,
          0.7606060606060606,
          0.8181818181818181,
          0.8757575757575757,
          0.9333333333333333,
          0.990909090909091,
          1.0484848484848486,
          1.1060606060606062,
          1.1636363636363636,
          1.2212121212121212,
          1.2787878787878788,
          1.3363636363636364,
          1.393939393939394,
          1.4515151515151516,
          1.5090909090909093,
          1.5666666666666669,
          1.6242424242424243,
          1.6818181818181819,
          1.7393939393939395,
          1.796969696969697,
          1.8545454545454547,
          1.9121212121212123,
          1.9696969696969697,
          2.0272727272727273,
          2.084848484848485,
          2.1424242424242426,
          2.2,
          2.257575757575758,
          2.315151515151515,
          2.3727272727272726,
          2.43030303030303,
          2.487878787878788,
          2.5454545454545454,
          2.603030303030303,
          2.6606060606060606,
          2.7181818181818183,
          2.775757575757576,
          2.8333333333333335,
          2.8909090909090907,
          2.9484848484848483,
          3.006060606060606,
          3.0636363636363635,
          3.121212121212121,
          3.1787878787878787,
          3.2363636363636363,
          3.293939393939394,
          3.3515151515151516,
          3.409090909090909,
          3.466666666666667,
          3.5242424242424244,
          3.581818181818182,
          3.639393939393939,
          3.696969696969697,
          3.7545454545454544,
          3.812121212121212,
          3.8696969696969696,
          3.9272727272727272,
          3.984848484848485,
          4.042424242424243,
          4.1000000000000005,
          4.157575757575758,
          4.215151515151516,
          4.272727272727273,
          4.33030303030303,
          4.387878787878788,
          4.445454545454545,
          4.503030303030303,
          4.5606060606060606,
          4.618181818181818,
          4.675757575757576,
          4.733333333333333,
          4.790909090909091,
          4.848484848484849,
          4.906060606060606,
          4.963636363636364,
          5.0212121212121215,
          5.078787878787879,
          5.136363636363637,
          5.193939393939394,
          5.251515151515152,
          5.3090909090909095,
          5.366666666666667,
          5.424242424242425,
          5.4818181818181815,
          5.539393939393939,
          5.596969696969697,
          5.654545454545454,
          5.712121212121212,
          5.7696969696969695,
          5.827272727272727,
          5.884848484848485,
          5.942424242424242,
          6
         ],
         "y": [
          80.58718489674516,
          75.79867612235921,
          72.37436447320584,
          69.79379506699757,
          67.76691733387116,
          66.11993063029172,
          64.74279547583109,
          63.562761200774446,
          62.53002285368888,
          61.60949165405765,
          60.77584641604432,
          60.01043912443862,
          59.2992947129149,
          58.63178081582214,
          57.99970097941468,
          57.39666302886053,
          56.817630625274035,
          56.25859943904476,
          55.716359737602545,
          55.18831993805219,
          54.67237384383719,
          54.16679962707536,
          53.670182178669506,
          53.18135286215323,
          52.69934236957482,
          52.22334353909952,
          51.7526818162068,
          51.28679162960134,
          50.82519738005368,
          50.36749805324473,
          49.91335469911502,
          49.46248019298838,
          49.01463082382969,
          48.56959935373811,
          48.12720926829371,
          47.68730999554026,
          47.24977291648992,
          46.81448802522948,
          46.38136112433392,
          45.950311463104754,
          45.521269743458674,
          45.09417643210389,
          44.66898032870745,
          44.24563734867178,
          43.8241094863497,
          43.40436393037811,
          42.986372307589136,
          42.57011003586325,
          42.15555576949873,
          41.74269092331792,
          41.33149926392139,
          40.921966558311794,
          40.514080271625744,
          40.10782930696831,
          39.70320378140252,
          39.300194833030446,
          38.89879445484826,
          38.49899535168538,
          38.100790817067946,
          37.70417462729887,
          37.3091409504259,
          36.915684268096754,
          36.52379930857535,
          36.13348098943101,
          35.74472436861379,
          35.35752460280423,
          34.97187691207307,
          34.5877765500162,
          34.205218778638766,
          33.82419884735924,
          33.44471197558545,
          33.06675333838581,
          32.69031805484087,
          32.3154011787139,
          31.941997691124413,
          31.570102494950675,
          31.19971041072057,
          30.830816173781898,
          30.463414432569607,
          30.097499747809252,
          29.733066592518924,
          29.370109352687393,
          29.00862232852228,
          28.64859973617621,
          28.29003570986987,
          27.93292430434218,
          27.57725949756599,
          27.223035193676765,
          26.870245226067652,
          26.51888336061046,
          26.168943298969793,
          25.8204186819778,
          25.473303093045843,
          25.127590061590638,
          24.783273066454967,
          24.44034553930794,
          24.09880086801047,
          23.75863239993504,
          23.4198334452293,
          23.082397280016778
         ]
        },
        {
         "mode": "markers",
         "name": "final model",
         "type": "scatter",
         "x": [
          2.25,
          2.25,
          1.16,
          1.12,
          0.55,
          0.53
         ],
         "y": [
          47.150001367838605,
          47.150001367838605,
          57.56137506733602,
          57.99948385045544,
          68.51311465308149,
          69.19924503938509
         ]
        }
       ],
       "layout": {
        "coloraxis": {
         "colorbar": {
          "title": {
           "text": "chamber_resistance"
          }
         },
         "colorscale": [
          [
           0,
           "#0d0887"
          ],
          [
           0.1111111111111111,
           "#46039f"
          ],
          [
           0.2222222222222222,
           "#7201a8"
          ],
          [
           0.3333333333333333,
           "#9c179e"
          ],
          [
           0.4444444444444444,
           "#bd3786"
          ],
          [
           0.5555555555555556,
           "#d8576b"
          ],
          [
           0.6666666666666666,
           "#ed7953"
          ],
          [
           0.7777777777777778,
           "#fb9f3a"
          ],
          [
           0.8888888888888888,
           "#fdca26"
          ],
          [
           1,
           "#f0f921"
          ]
         ]
        },
        "legend": {
         "tracegroupgap": 0
        },
        "margin": {
         "t": 60
        },
        "template": {
         "data": {
          "bar": [
           {
            "error_x": {
             "color": "#2a3f5f"
            },
            "error_y": {
             "color": "#2a3f5f"
            },
            "marker": {
             "line": {
              "color": "#E5ECF6",
              "width": 0.5
             },
             "pattern": {
              "fillmode": "overlay",
              "size": 10,
              "solidity": 0.2
             }
            },
            "type": "bar"
           }
          ],
          "barpolar": [
           {
            "marker": {
             "line": {
              "color": "#E5ECF6",
              "width": 0.5
             },
             "pattern": {
              "fillmode": "overlay",
              "size": 10,
              "solidity": 0.2
             }
            },
            "type": "barpolar"
           }
          ],
          "carpet": [
           {
            "aaxis": {
             "endlinecolor": "#2a3f5f",
             "gridcolor": "white",
             "linecolor": "white",
             "minorgridcolor": "white",
             "startlinecolor": "#2a3f5f"
            },
            "baxis": {
             "endlinecolor": "#2a3f5f",
             "gridcolor": "white",
             "linecolor": "white",
             "minorgridcolor": "white",
             "startlinecolor": "#2a3f5f"
            },
            "type": "carpet"
           }
          ],
          "choropleth": [
           {
            "colorbar": {
             "outlinewidth": 0,
             "ticks": ""
            },
            "type": "choropleth"
           }
          ],
          "contour": [
           {
            "colorbar": {
             "outlinewidth": 0,
             "ticks": ""
            },
            "colorscale": [
             [
              0,
              "#0d0887"
             ],
             [
              0.1111111111111111,
              "#46039f"
             ],
             [
              0.2222222222222222,
              "#7201a8"
             ],
             [
              0.3333333333333333,
              "#9c179e"
             ],
             [
              0.4444444444444444,
              "#bd3786"
             ],
             [
              0.5555555555555556,
              "#d8576b"
             ],
             [
              0.6666666666666666,
              "#ed7953"
             ],
             [
              0.7777777777777778,
              "#fb9f3a"
             ],
             [
              0.8888888888888888,
              "#fdca26"
             ],
             [
              1,
              "#f0f921"
             ]
            ],
            "type": "contour"
           }
          ],
          "contourcarpet": [
           {
            "colorbar": {
             "outlinewidth": 0,
             "ticks": ""
            },
            "type": "contourcarpet"
           }
          ],
          "heatmap": [
           {
            "colorbar": {
             "outlinewidth": 0,
             "ticks": ""
            },
            "colorscale": [
             [
              0,
              "#0d0887"
             ],
             [
              0.1111111111111111,
              "#46039f"
             ],
             [
              0.2222222222222222,
              "#7201a8"
             ],
             [
              0.3333333333333333,
              "#9c179e"
             ],
             [
              0.4444444444444444,
              "#bd3786"
             ],
             [
              0.5555555555555556,
              "#d8576b"
             ],
             [
              0.6666666666666666,
              "#ed7953"
             ],
             [
              0.7777777777777778,
              "#fb9f3a"
             ],
             [
              0.8888888888888888,
              "#fdca26"
             ],
             [
              1,
              "#f0f921"
             ]
            ],
            "type": "heatmap"
           }
          ],
          "heatmapgl": [
           {
            "colorbar": {
             "outlinewidth": 0,
             "ticks": ""
            },
            "colorscale": [
             [
              0,
              "#0d0887"
             ],
             [
              0.1111111111111111,
              "#46039f"
             ],
             [
              0.2222222222222222,
              "#7201a8"
             ],
             [
              0.3333333333333333,
              "#9c179e"
             ],
             [
              0.4444444444444444,
              "#bd3786"
             ],
             [
              0.5555555555555556,
              "#d8576b"
             ],
             [
              0.6666666666666666,
              "#ed7953"
             ],
             [
              0.7777777777777778,
              "#fb9f3a"
             ],
             [
              0.8888888888888888,
              "#fdca26"
             ],
             [
              1,
              "#f0f921"
             ]
            ],
            "type": "heatmapgl"
           }
          ],
          "histogram": [
           {
            "marker": {
             "pattern": {
              "fillmode": "overlay",
              "size": 10,
              "solidity": 0.2
             }
            },
            "type": "histogram"
           }
          ],
          "histogram2d": [
           {
            "colorbar": {
             "outlinewidth": 0,
             "ticks": ""
            },
            "colorscale": [
             [
              0,
              "#0d0887"
             ],
             [
              0.1111111111111111,
              "#46039f"
             ],
             [
              0.2222222222222222,
              "#7201a8"
             ],
             [
              0.3333333333333333,
              "#9c179e"
             ],
             [
              0.4444444444444444,
              "#bd3786"
             ],
             [
              0.5555555555555556,
              "#d8576b"
             ],
             [
              0.6666666666666666,
              "#ed7953"
             ],
             [
              0.7777777777777778,
              "#fb9f3a"
             ],
             [
              0.8888888888888888,
              "#fdca26"
             ],
             [
              1,
              "#f0f921"
             ]
            ],
            "type": "histogram2d"
           }
          ],
          "histogram2dcontour": [
           {
            "colorbar": {
             "outlinewidth": 0,
             "ticks": ""
            },
            "colorscale": [
             [
              0,
              "#0d0887"
             ],
             [
              0.1111111111111111,
              "#46039f"
             ],
             [
              0.2222222222222222,
              "#7201a8"
             ],
             [
              0.3333333333333333,
              "#9c179e"
             ],
             [
              0.4444444444444444,
              "#bd3786"
             ],
             [
              0.5555555555555556,
              "#d8576b"
             ],
             [
              0.6666666666666666,
              "#ed7953"
             ],
             [
              0.7777777777777778,
              "#fb9f3a"
             ],
             [
              0.8888888888888888,
              "#fdca26"
             ],
             [
              1,
              "#f0f921"
             ]
            ],
            "type": "histogram2dcontour"
           }
          ],
          "mesh3d": [
           {
            "colorbar": {
             "outlinewidth": 0,
             "ticks": ""
            },
            "type": "mesh3d"
           }
          ],
          "parcoords": [
           {
            "line": {
             "colorbar": {
              "outlinewidth": 0,
              "ticks": ""
             }
            },
            "type": "parcoords"
           }
          ],
          "pie": [
           {
            "automargin": true,
            "type": "pie"
           }
          ],
          "scatter": [
           {
            "fillpattern": {
             "fillmode": "overlay",
             "size": 10,
             "solidity": 0.2
            },
            "type": "scatter"
           }
          ],
          "scatter3d": [
           {
            "line": {
             "colorbar": {
              "outlinewidth": 0,
              "ticks": ""
             }
            },
            "marker": {
             "colorbar": {
              "outlinewidth": 0,
              "ticks": ""
             }
            },
            "type": "scatter3d"
           }
          ],
          "scattercarpet": [
           {
            "marker": {
             "colorbar": {
              "outlinewidth": 0,
              "ticks": ""
             }
            },
            "type": "scattercarpet"
           }
          ],
          "scattergeo": [
           {
            "marker": {
             "colorbar": {
              "outlinewidth": 0,
              "ticks": ""
             }
            },
            "type": "scattergeo"
           }
          ],
          "scattergl": [
           {
            "marker": {
             "colorbar": {
              "outlinewidth": 0,
              "ticks": ""
             }
            },
            "type": "scattergl"
           }
          ],
          "scattermapbox": [
           {
            "marker": {
             "colorbar": {
              "outlinewidth": 0,
              "ticks": ""
             }
            },
            "type": "scattermapbox"
           }
          ],
          "scatterpolar": [
           {
            "marker": {
             "colorbar": {
              "outlinewidth": 0,
              "ticks": ""
             }
            },
            "type": "scatterpolar"
           }
          ],
          "scatterpolargl": [
           {
            "marker": {
             "colorbar": {
              "outlinewidth": 0,
              "ticks": ""
             }
            },
            "type": "scatterpolargl"
           }
          ],
          "scatterternary": [
           {
            "marker": {
             "colorbar": {
              "outlinewidth": 0,
              "ticks": ""
             }
            },
            "type": "scatterternary"
           }
          ],
          "surface": [
           {
            "colorbar": {
             "outlinewidth": 0,
             "ticks": ""
            },
            "colorscale": [
             [
              0,
              "#0d0887"
             ],
             [
              0.1111111111111111,
              "#46039f"
             ],
             [
              0.2222222222222222,
              "#7201a8"
             ],
             [
              0.3333333333333333,
              "#9c179e"
             ],
             [
              0.4444444444444444,
              "#bd3786"
             ],
             [
              0.5555555555555556,
              "#d8576b"
             ],
             [
              0.6666666666666666,
              "#ed7953"
             ],
             [
              0.7777777777777778,
              "#fb9f3a"
             ],
             [
              0.8888888888888888,
              "#fdca26"
             ],
             [
              1,
              "#f0f921"
             ]
            ],
            "type": "surface"
           }
          ],
          "table": [
           {
            "cells": {
             "fill": {
              "color": "#EBF0F8"
             },
             "line": {
              "color": "white"
             }
            },
            "header": {
             "fill": {
              "color": "#C8D4E3"
             },
             "line": {
              "color": "white"
             }
            },
            "type": "table"
           }
          ]
         },
         "layout": {
          "annotationdefaults": {
           "arrowcolor": "#2a3f5f",
           "arrowhead": 0,
           "arrowwidth": 1
          },
          "autotypenumbers": "strict",
          "coloraxis": {
           "colorbar": {
            "outlinewidth": 0,
            "ticks": ""
           }
          },
          "colorscale": {
           "diverging": [
            [
             0,
             "#8e0152"
            ],
            [
             0.1,
             "#c51b7d"
            ],
            [
             0.2,
             "#de77ae"
            ],
            [
             0.3,
             "#f1b6da"
            ],
            [
             0.4,
             "#fde0ef"
            ],
            [
             0.5,
             "#f7f7f7"
            ],
            [
             0.6,
             "#e6f5d0"
            ],
            [
             0.7,
             "#b8e186"
            ],
            [
             0.8,
             "#7fbc41"
            ],
            [
             0.9,
             "#4d9221"
            ],
            [
             1,
             "#276419"
            ]
           ],
           "sequential": [
            [
             0,
             "#0d0887"
            ],
            [
             0.1111111111111111,
             "#46039f"
            ],
            [
             0.2222222222222222,
             "#7201a8"
            ],
            [
             0.3333333333333333,
             "#9c179e"
            ],
            [
             0.4444444444444444,
             "#bd3786"
            ],
            [
             0.5555555555555556,
             "#d8576b"
            ],
            [
             0.6666666666666666,
             "#ed7953"
            ],
            [
             0.7777777777777778,
             "#fb9f3a"
            ],
            [
             0.8888888888888888,
             "#fdca26"
            ],
            [
             1,
             "#f0f921"
            ]
           ],
           "sequentialminus": [
            [
             0,
             "#0d0887"
            ],
            [
             0.1111111111111111,
             "#46039f"
            ],
            [
             0.2222222222222222,
             "#7201a8"
            ],
            [
             0.3333333333333333,
             "#9c179e"
            ],
            [
             0.4444444444444444,
             "#bd3786"
            ],
            [
             0.5555555555555556,
             "#d8576b"
            ],
            [
             0.6666666666666666,
             "#ed7953"
            ],
            [
             0.7777777777777778,
             "#fb9f3a"
            ],
            [
             0.8888888888888888,
             "#fdca26"
            ],
            [
             1,
             "#f0f921"
            ]
           ]
          },
          "colorway": [
           "#636efa",
           "#EF553B",
           "#00cc96",
           "#ab63fa",
           "#FFA15A",
           "#19d3f3",
           "#FF6692",
           "#B6E880",
           "#FF97FF",
           "#FECB52"
          ],
          "font": {
           "color": "#2a3f5f"
          },
          "geo": {
           "bgcolor": "white",
           "lakecolor": "white",
           "landcolor": "#E5ECF6",
           "showlakes": true,
           "showland": true,
           "subunitcolor": "white"
          },
          "hoverlabel": {
           "align": "left"
          },
          "hovermode": "closest",
          "mapbox": {
           "style": "light"
          },
          "paper_bgcolor": "white",
          "plot_bgcolor": "#E5ECF6",
          "polar": {
           "angularaxis": {
            "gridcolor": "white",
            "linecolor": "white",
            "ticks": ""
           },
           "bgcolor": "#E5ECF6",
           "radialaxis": {
            "gridcolor": "white",
            "linecolor": "white",
            "ticks": ""
           }
          },
          "scene": {
           "xaxis": {
            "backgroundcolor": "#E5ECF6",
            "gridcolor": "white",
            "gridwidth": 2,
            "linecolor": "white",
            "showbackground": true,
            "ticks": "",
            "zerolinecolor": "white"
           },
           "yaxis": {
            "backgroundcolor": "#E5ECF6",
            "gridcolor": "white",
            "gridwidth": 2,
            "linecolor": "white",
            "showbackground": true,
            "ticks": "",
            "zerolinecolor": "white"
           },
           "zaxis": {
            "backgroundcolor": "#E5ECF6",
            "gridcolor": "white",
            "gridwidth": 2,
            "linecolor": "white",
            "showbackground": true,
            "ticks": "",
            "zerolinecolor": "white"
           }
          },
          "shapedefaults": {
           "line": {
            "color": "#2a3f5f"
           }
          },
          "ternary": {
           "aaxis": {
            "gridcolor": "white",
            "linecolor": "white",
            "ticks": ""
           },
           "baxis": {
            "gridcolor": "white",
            "linecolor": "white",
            "ticks": ""
           },
           "bgcolor": "#E5ECF6",
           "caxis": {
            "gridcolor": "white",
            "linecolor": "white",
            "ticks": ""
           }
          },
          "title": {
           "x": 0.05
          },
          "xaxis": {
           "automargin": true,
           "gridcolor": "white",
           "linecolor": "white",
           "ticks": "",
           "title": {
            "standoff": 15
           },
           "zerolinecolor": "white",
           "zerolinewidth": 2
          },
          "yaxis": {
           "automargin": true,
           "gridcolor": "white",
           "linecolor": "white",
           "ticks": "",
           "title": {
            "standoff": 15
           },
           "zerolinecolor": "white",
           "zerolinewidth": 2
          }
         }
        },
        "xaxis": {
         "anchor": "y",
         "domain": [
          0,
          1
         ],
         "title": {
          "text": "metal_resistance"
         }
        },
        "yaxis": {
         "anchor": "x",
         "domain": [
          0,
          1
         ],
         "title": {
          "text": "real_temp"
         }
        }
       }
      }
     },
     "metadata": {},
     "output_type": "display_data"
    }
   ],
   "source": [
    "# plot the data\n",
    "fig = px.scatter(df, x=\"metal_resistance\", y=\"real_temp\", color=\"chamber_resistance\")\n",
    "#add an scatter plot with the SH model\n",
    "xplot = np.linspace(0.3,6,100)\n",
    "yplot = SH_model(xplot,best_a,best_b,best_c)\n",
    "fig.add_trace(go.Scatter(x=xplot,y=yplot,mode='lines',name='SH model'))\n",
    "\n",
    "#add a trace for the final model for each chamber resistance,metal resistance pair in the dataframe\n",
    "yplot2 = [final_model(x,best_a,best_b,best_c,best_k1,best_k2,best_k3) for x in df.values]\n",
    "xplot2 = df['metal_resistance']\n",
    "fig.add_trace(go.Scatter(x=xplot2,y=yplot2,mode='markers',name='final model'))\n",
    "\n",
    "\n",
    "fig.show()"
   ]
  },
  {
   "cell_type": "code",
   "execution_count": 69,
   "metadata": {},
   "outputs": [
    {
     "name": "stdout",
     "output_type": "stream",
     "text": [
      "3.9830914821553094\n"
     ]
    },
    {
     "data": {
      "text/plain": [
       "5.168345940795646"
      ]
     },
     "execution_count": 69,
     "metadata": {},
     "output_type": "execute_result"
    }
   ],
   "source": [
    "# calculate error in the data against SH-model\n",
    "error = 0\n",
    "for i in range(len(df)):\n",
    "    error += np.sqrt(\n",
    "        (final_model(df.iloc[i],best_a,best_b,best_c,best_k1,best_k2,best_k3) -  df.iloc[i]['real_temp'])**2\n",
    "        )\n",
    "print(error)\n",
    "\n",
    "error = 0\n",
    "for i in range(len(df)):\n",
    "    error += np.sqrt(\n",
    "        (SH_model(df.iloc[i]['metal_resistance'],best_a,best_b,best_c) - df.iloc[i]['real_temp'])**2\n",
    "        )\n",
    "error"
   ]
  },
  {
   "cell_type": "code",
   "execution_count": 176,
   "metadata": {},
   "outputs": [
    {
     "data": {
      "text/plain": [
       "63.42949918471434"
      ]
     },
     "execution_count": 176,
     "metadata": {},
     "output_type": "execute_result"
    }
   ],
   "source": [
    "final_model(df.iloc[2],best_a,best_b,best_c,best_k1,best_k2)"
   ]
  },
  {
   "cell_type": "code",
   "execution_count": 175,
   "metadata": {},
   "outputs": [
    {
     "data": {
      "text/plain": [
       "67.8"
      ]
     },
     "execution_count": 175,
     "metadata": {},
     "output_type": "execute_result"
    }
   ],
   "source": [
    "df.iloc[2]['real_temp']"
   ]
  },
  {
   "cell_type": "code",
   "execution_count": 189,
   "metadata": {},
   "outputs": [
    {
     "data": {
      "text/plain": [
       "0.00281085445209924"
      ]
     },
     "metadata": {},
     "output_type": "display_data"
    },
    {
     "data": {
      "text/plain": [
       "0.00023488321331200981"
      ]
     },
     "metadata": {},
     "output_type": "display_data"
    },
    {
     "data": {
      "text/plain": [
       "8.25649163366219e-06"
      ]
     },
     "metadata": {},
     "output_type": "display_data"
    }
   ],
   "source": [
    "display(a,b,c)"
   ]
  }
 ],
 "metadata": {
  "interpreter": {
   "hash": "2b69866d1a45c36300f86379fd72c1a59c734f043f132a819a8a3804431b38e5"
  },
  "kernelspec": {
   "display_name": "Python 3.7.9 64-bit",
   "language": "python",
   "name": "python3"
  },
  "language_info": {
   "codemirror_mode": {
    "name": "ipython",
    "version": 3
   },
   "file_extension": ".py",
   "mimetype": "text/x-python",
   "name": "python",
   "nbconvert_exporter": "python",
   "pygments_lexer": "ipython3",
   "version": "3.7.9"
  },
  "orig_nbformat": 4
 },
 "nbformat": 4,
 "nbformat_minor": 2
}
