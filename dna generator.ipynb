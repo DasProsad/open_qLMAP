{
 "cells": [
  {
   "cell_type": "code",
   "execution_count": 5,
   "metadata": {},
   "outputs": [
    {
     "name": "stdout",
     "output_type": "stream",
     "text": [
      "GTGAATCCATCGAAATGACGCGGCGTCCTCGCAAAGGT\n"
     ]
    }
   ],
   "source": [
    "from Bio.SeqUtils import MeltingTemp as mt\n",
    "from Bio.Seq import Seq\n",
    "import random\n",
    "\n",
    "def generate_dna(target_tm):\n",
    "    sequence = \"\"\n",
    "    gc_content = 0\n",
    "    gc_fraction = 0\n",
    "    while True:\n",
    "        if gc_fraction < 0.4:\n",
    "            new_base = random.choice(['G', 'C'])\n",
    "        elif gc_fraction > 0.6:\n",
    "            new_base = random.choice(['A', 'T'])\n",
    "        else:\n",
    "            new_base = random.choice(['A', 'T', 'G', 'C'])\n",
    "\n",
    "        sequence += new_base\n",
    "        gc_content += new_base in ['G', 'C']\n",
    "        gc_fraction = gc_content / len(sequence)\n",
    "        tm = mt.Tm_NN(Seq(sequence), Na=50, Mg=7)\n",
    "\n",
    "        if tm >= target_tm:\n",
    "            break\n",
    "    return sequence\n",
    "\n",
    "print(generate_dna(80))\n"
   ]
  },
  {
   "cell_type": "code",
   "execution_count": 23,
   "metadata": {},
   "outputs": [
    {
     "data": {
      "image/png": "[encoded data removed]",
      "text/plain": [
       "<Figure size 432x288 with 1 Axes>"
      ]
     },
     "metadata": {
      "needs_background": "light"
     },
     "output_type": "display_data"
    }
   ],
   "source": [
    "import numpy as np\n",
    "import matplotlib.pyplot as plt\n",
    "\n",
    "def delta_t(Tm, A=100, B=0.05):\n",
    "    return A * np.exp(-B * Tm)\n",
    "\n",
    "\n",
    "# Simulate a melting curve\n",
    "T = np.linspace(0, 100, 1000)  # temperatures from 0 to 100\n",
    "tm = 90  # melting temperature\n",
    "delta_t = delta_t(tm)  # change in temperature\n",
    "y = boltzmann_sigmoid(T, tm, -delta_t)\n",
    "\n",
    "plt.plot(T, y)\n",
    "plt.xlabel('Temperature')\n",
    "plt.ylabel('Fraction of denatured DNA')\n",
    "plt.title('Simulated DNA melting curve')\n",
    "plt.grid(True)\n",
    "plt.show()\n",
    "\n"
   ]
  }
 ],
 "metadata": {
  "kernelspec": {
   "display_name": "Python 3",
   "language": "python",
   "name": "python3"
  },
  "language_info": {
   "codemirror_mode": {
    "name": "ipython",
    "version": 3
   },
   "file_extension": ".py",
   "mimetype": "text/x-python",
   "name": "python",
   "nbconvert_exporter": "python",
   "pygments_lexer": "ipython3",
   "version": "3.7.9"
  },
  "orig_nbformat": 4
 },
 "nbformat": 4,
 "nbformat_minor": 2
}
